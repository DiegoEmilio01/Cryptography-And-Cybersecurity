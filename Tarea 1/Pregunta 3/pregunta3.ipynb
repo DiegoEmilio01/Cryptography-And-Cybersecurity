{
  "cells": [
    {
      "cell_type": "markdown",
      "metadata": {
        "id": "w30fbLhxHuXK"
      },
      "source": [
        "# Pregunta 3 - Tarea 1\n",
        "## Estudiante: Diego Emilio Bustamante Henríquez\n",
        "\n",
        "### Merkle Tree\n",
        "\n",
        "Se decide almacenar los parámetros del árbol y calcular los output de las funciones al mismo tiempo que se contruye el estructura.\n",
        "\n",
        "`get_root`: calcula el hash de las hojas a partir de los strings. Siempre que no se haya alcanzado la root, se ajusta la paridad de la lista y se calcula el siguiente nivel del árbol emparejando de a 2 y calculando los hash (el zip permite emparejar los nodos pares con su correspontiente impar). Al llegar a un nivel con un nodo, se retorna la root.\n",
        "\n",
        "`get_proof_for`: método parecido al anterior. Se revisa que el item este entre los strings y se obtiene su posición en la lista. A medida que se calculan los niveles del árbol, se busca el nodo vecino (según la paridad del índice) y se añade a la proof. Tanto en los nodos pares como impares el índice del padre es la división entera del índice del nodo. Al llegar al nivel root, se retorna la proof. "
      ]
    },
    {
      "cell_type": "code",
      "execution_count": 62,
      "metadata": {
        "id": "Vg4j4jRxRNWX"
      },
      "outputs": [],
      "source": [
        "class MerkleTree :\n",
        "  def __init__(self, strings, hash_func):\n",
        "    self.strings = strings\n",
        "    self.hash_func = hash_func\n",
        "\n",
        "  def get_root(self):\n",
        "    nodes = [self.hash_func(elemento) for elemento in self.strings]\n",
        "    while len(nodes) > 1:\n",
        "       if len(nodes)%2 != 0: nodes.append(nodes[-1])\n",
        "       nodes = [self.hash_func(elem1 + elem2) for elem1,elem2 in zip(nodes[0::2], nodes[1::2])]\n",
        "    return nodes[0]\n",
        "\n",
        "  def get_proof_for(self, item):\n",
        "    if item not in self.strings: return None\n",
        "    index = self.strings.index(item)\n",
        "    proof = []\n",
        "    nodes = [self.hash_func(elemento) for elemento in self.strings]\n",
        "    while len(nodes) > 1:\n",
        "       if len(nodes)%2 != 0: nodes.append(nodes[-1])\n",
        "       if index%2 == 0: proof.append((nodes[index + 1], \"d\"))\n",
        "       else: proof.append((nodes[index - 1], \"i\"))\n",
        "       index >>= 1\n",
        "       nodes = [self.hash_func(elem1 + elem2) for elem1,elem2 in zip(nodes[0::2], nodes[1::2])]\n",
        "    return proof"
      ]
    },
    {
      "cell_type": "markdown",
      "metadata": {
        "id": "eFxWjr33Ra0k"
      },
      "source": [
        "### Verify\n",
        "\n",
        "Si existe una proof, se calcula el hash del item. Luego, se itera sobre la proof para calcular el hash acumulado dependiendo de si es un nodo a la izquierda o derecha. Si este hash resulta ser el root se retorna True, se retorna False en caso contrario."
      ]
    },
    {
      "cell_type": "code",
      "execution_count": 76,
      "metadata": {
        "id": "8moYhahFRa_P"
      },
      "outputs": [],
      "source": [
        "def verify (root, item, proof, hash_func):\n",
        "  if not proof: return False\n",
        "  cummulative_hash = hash_func(item)\n",
        "  for value, dir in proof:\n",
        "    if dir == \"d\": cummulative_hash = hash_func(cummulative_hash + value)\n",
        "    else: cummulative_hash = hash_func(value + cummulative_hash)\n",
        "  if cummulative_hash == root: return True\n",
        "  return False"
      ]
    },
    {
      "cell_type": "markdown",
      "metadata": {
        "id": "y1lQ-UN5Hqym"
      },
      "source": [
        "### Test\n",
        "\n",
        "Funciones y cálculos para testear el código."
      ]
    },
    {
      "cell_type": "code",
      "execution_count": 81,
      "metadata": {
        "colab": {
          "base_uri": "https://localhost:8080/"
        },
        "id": "j3OW9be_UuOT",
        "outputId": "c98890f6-cb2c-4edc-f426-e696467c49b6"
      },
      "outputs": [
        {
          "name": "stdout",
          "output_type": "stream",
          "text": [
            "f438cd3b70cd1c623bfac0578bbad20bde969d1d76bcdfb2c2ecb6e338398220\n",
            "[('472353467f2c5636fd2dfe9f6cbb2520d0e81654e2a0064cf48f277eb0b97e17', 'd'), ('38b7911e451e23b27322f0b03f22de8394cff89d859e406e4d9d7439b45db276', 'i')]\n",
            "True\n"
          ]
        }
      ],
      "source": [
        "\"\"\"\n",
        "from hashlib import sha256\n",
        "def test_fn(a):\n",
        "  return sha256(a.encode('utf-8')).hexdigest()\n",
        "# verify(test_fn(test_fn(test_fn(\"gato\") + test_fn(\"piolin\")) + test_fn(\"perro\")), \"piolin\", [(test_fn(\"gato\"), \"i\"), (test_fn(\"perro\"), \"d\")], test_fn)\n",
        "tree = MerkleTree([\"gato\", \"piolin\", \"perro\", \"pez\"], test_fn)\n",
        "print(tree.get_root())\n",
        "print(tree.get_proof_for(\"perro\"))\n",
        "print(verify(tree.get_root(), \"pez\", tree.get_proof_for(\"pez\"), test_fn))\n",
        "\"\"\""
      ]
    }
  ],
  "metadata": {
    "colab": {
      "collapsed_sections": [],
      "name": "pregunta3.ipynb",
      "provenance": []
    },
    "kernelspec": {
      "display_name": "Python 3",
      "name": "python3"
    },
    "language_info": {
      "name": "python"
    }
  },
  "nbformat": 4,
  "nbformat_minor": 0
}
