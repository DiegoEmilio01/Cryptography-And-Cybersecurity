{
  "nbformat": 4,
  "nbformat_minor": 0,
  "metadata": {
    "colab": {
      "name": "pregunta1.ipynb",
      "provenance": [],
      "collapsed_sections": []
    },
    "kernelspec": {
      "name": "python3",
      "display_name": "Python 3"
    },
    "language_info": {
      "name": "python"
    }
  },
  "cells": [
    {
      "cell_type": "markdown",
      "source": [
        "# Pregunta 1 - Tarea 1\n",
        "## Diego Emilio Bustamante Henríquez\n",
        "\n",
        "### Utilidades\n",
        "\n",
        "- `e_otp`: Encripta un texto, utilizando una llave y en base al orden de un alfabeto, mediante el protocolo OTP.\n",
        "\n",
        "- `d_otp`: Desencripta un texto, utilizando una llave y en base al orden de un alfabeto, mediante el protocolo OTP.\n",
        "\n",
        "- `decript`: Desencripta un texto, utilizando una llave y en base al orden de un alfabeto, mediante el protocolo OTP. Este algoritmo es más rápido ya que utiliza un diccionario y no busca el índice dentro de una lista.\n",
        "\n",
        "- `binary_search`: Dado un array (de dos dimensiones) ordenado y el valor de un elemento, retorna el índice en el cual debería insertarse el elemento.\n",
        "\n",
        "- `binary_insertion`: Dado un array ordenado, un elemento y su valor, utiliza binary search para insertarlo. Luego, elimina el último elemento para mantaner constante el largo del arreglo. Esta estructura simula un max-heap para k elementos. Si bien puede ser mejorada, no hace falta dado que su tamaño es del orden de las decenas. "
      ],
      "metadata": {
        "id": "Kc0Ut9EdyFLI"
      }
    },
    {
      "cell_type": "code",
      "execution_count": 78,
      "metadata": {
        "id": "MkHTkCknwMeU"
      },
      "outputs": [],
      "source": [
        "def e_otp(text, key, frequencies):\n",
        "  alph = sorted(frequencies.keys())\n",
        "  num_text = [alph.index(letter) for letter in text]\n",
        "  num_key = [alph.index(letter) for letter in key]\n",
        "  long_num_key = num_key*(len(num_text)//len(num_key)) + num_key[:len(num_text)%len(num_key)]\n",
        "  return \"\".join([alph[(m+k)%len(alph)] for m, k in zip(num_text, long_num_key)])\n",
        "\n",
        "def d_otp(text, key, frequencies):\n",
        "  alph = sorted(frequencies.keys())\n",
        "  num_text = [alph.index(letter) for letter in text]\n",
        "  num_key = [alph.index(letter) for letter in key]\n",
        "  long_num_key = num_key*(len(num_text)//len(num_key)) + num_key[:len(num_text)%len(num_key)]\n",
        "  return \"\".join([alph[(m-k+len(alph))%len(alph)] for m, k in zip(num_text, long_num_key)])\n",
        "\n",
        "def decript(text, key, alph, alph_dict):\n",
        "  long_key = key*(len(text)//len(key)) + key[:len(text)%len(key)]\n",
        "  return \"\".join([alph[(alph_dict[m]-alph_dict[k])%len(alph)] for m, k in zip(text, long_key)])\n",
        "\n",
        "def binary_search(arr, item):\n",
        "  low, high = 0, len(arr) - 1\n",
        "  while (low <= high):\n",
        "    mid = low + (high - low) // 2\n",
        "    if (item == arr[mid][1]): return mid + 1\n",
        "    elif (item > arr[mid][1]): low = mid + 1\n",
        "    else: high = mid - 1\n",
        "  return low\n",
        "\n",
        "def binary_insertion(arr, elem, val):\n",
        "  if val >= arr[-1][1]: return arr\n",
        "  index = binary_search(arr, val)\n",
        "  return arr[:index] + [(elem, val)] + arr[index:-1]"
      ]
    },
    {
      "cell_type": "markdown",
      "source": [
        "### Llaves\n",
        "\n",
        "Ambas funciones calculan las mejores llaves para el texto cifrado, dada unas frecuencias (alfabeto) y función de distancia. Utilizan la estructura descrita para retornar los 20 mejores resultados, a veces la función entrega un resultado erróneo como mejor llave pero la real está entre estos resultados (de ahí su gran utilidad).\n",
        "\n",
        "Las 2 funciones tienen una complejidad y estructuras similares, sin embargo, la primera tiene una mayor precisión al calcular qué tan buena es una llave.\n",
        "\n",
        "- `statistics_best_keys`: Sigue la lógica del código visto en clases para romper OTP. Recorre todos los largos de llave. Por cada letra de una llave, elige los carácteres que desencripta y evalúa qué tan parecido a un idioma sería el texto original. Al tener todas las letras de una llave esta es guardada como candidata, su desempeño al guardarla es sobre todo el texto original.\n",
        "\n",
        "- `greedy_best_key`: Toma una muestra del texto encriptado para reducir el costo del algoritmo. Recorre todos los largos de llave. Por cada letra de una llave, evalúa qué tan parecido a un idioma sería la muestra original. Una vez que ha probado con todas las letras, se queda con la mejor y pasa a las siguientes. Por ejemplo, se prueba AAA, BAA y CAA; si BAA es la mejor llave se probará ahora con BAA, BBA y BCA. Dado que se prueban con llaves enteras, el algoritmo es un poco más costoso por lo que el valor de una llave como candidata es su desempeño en la muestra.\n",
        " "
      ],
      "metadata": {
        "id": "lVFozKIZ7dSf"
      }
    },
    {
      "cell_type": "code",
      "source": [
        "def statistics_best_keys(ciphertext, frequencies, distance, alph, alph_dict):\n",
        "  best_keys = [(0, 2<<30)]*20\n",
        "  max_key_length = len(ciphertext)//50\n",
        "  for length in range(1, max_key_length + 1):\n",
        "    best_letters = [0] * length\n",
        "    for index in range(length):\n",
        "      sub_ciphertext, best_letter, best_dist = [ciphertext[char_index * length + index] for char_index in range(len(ciphertext) // length)], \"\", len(alph)\n",
        "      for letter in alph:\n",
        "        decripted_text = \"\"\n",
        "        for char in sub_ciphertext: decripted_text += alph[(alph_dict[char]-alph_dict[letter]) % len(alph)]\n",
        "        dist = distance(decripted_text, frequencies)\n",
        "        if dist < best_dist: best_dist, best_letter = dist, letter\n",
        "      best_letters[index] = best_letter\n",
        "    key = \"\".join(best_letters)\n",
        "    text = decript(ciphertext, key, alph, alph_dict)\n",
        "    best_keys = binary_insertion(best_keys, key, distance(text, frequencies))\n",
        "  return best_keys\n",
        "\n",
        "def greedy_best_keys(ciphertext, frequencies, distance, alph, alph_dict):\n",
        "  best_keys = [(0, 2<<30)]*20\n",
        "  short_ciphertext = ciphertext[:823]\n",
        "  max_key_length = min(len(ciphertext)//50, 45)\n",
        "  for length in range(1, max_key_length + 1):\n",
        "    best_letter, best_key_prefix, best_key_dist = \"\", \"\", 2<<30\n",
        "    for index in range(length):\n",
        "      best_key_prefix += best_letter\n",
        "      for letter in alph:\n",
        "        key = best_key_prefix + letter + alph[0]*(length - 1 - index)\n",
        "        text = decript(short_ciphertext, key, alph, alph_dict)\n",
        "        dist = distance(text, frequencies)\n",
        "        if dist < best_key_dist: best_key_dist, best_letter = dist, letter\n",
        "        best_keys = binary_insertion(best_keys, key, dist)\n",
        "  return best_keys"
      ],
      "metadata": {
        "id": "Bq1EuVniV8hS"
      },
      "execution_count": 79,
      "outputs": []
    },
    {
      "cell_type": "markdown",
      "source": [
        "### Break RP\n",
        "\n",
        "- `break_rp`: utiliza una función que calcula las mejores llaves y después evalúa la mejor en el texto cifrado original. En este caso, como la función utilizada evalúa en el texto original se sabe que la primera será la mejor. En el otro caso, se deben recorrer las llaves y desencriptar el texto original (algo que toma muy poco dado que son 20 llaves). En general se encuentra la llave, si no es muy probable que la llave real esté entre las candidatas a llave. Para un texto de 7k carácteres sobre un alfabeto de 27 símbolos, tarda menos de 10 segundos en encontrar la respuesta correcta."
      ],
      "metadata": {
        "id": "vzf7l-2RDbOL"
      }
    },
    {
      "cell_type": "code",
      "source": [
        "def break_rp(ciphertext, frequencies, distance):\n",
        "  alph = sorted(frequencies.keys())\n",
        "  alph_dict = {alph[i]:i for i in range(len(alph))}\n",
        "  best_keys = statistics_best_keys(ciphertext, frequencies, distance, alph, alph_dict)\n",
        "  return best_keys[0][0]"
      ],
      "metadata": {
        "id": "UHQV72DQlXW3"
      },
      "execution_count": 80,
      "outputs": []
    },
    {
      "cell_type": "markdown",
      "source": [
        "## Para testear\n",
        "\n",
        "Utilidades para testear"
      ],
      "metadata": {
        "id": "H2-udzm5lXKp"
      }
    },
    {
      "cell_type": "code",
      "source": [
        "\"\"\"\"\n",
        "frequencies = {\n",
        "    'A': 0.082, 'B': 0.015, 'C': 0.027, 'D': 0.047, 'E': 0.13, 'F': 0.022, 'G': 0.02,\n",
        "    'H': 0.062, 'I': 0.069, 'J': 0.0016, 'K': 0.0081, 'L': 0.04, 'M': 0.027, 'N': 0.067,\n",
        "    'O': 0.078, 'P': 0.019, 'Q': 0.0011, 'R': 0.059, 'S': 0.062, 'T': 0.096,\n",
        "    'U': 0.027, 'V': 0.0097, 'W': 0.024, 'X': 0.0015, 'Y': 0.02, 'Z': 0.00078\n",
        "}\n",
        "def abs_distance(string, frequencies): return sum([abs(frequencies[c] - string.count(c) / len(string)) for c in frequencies])\n",
        "def clean(t): return t.replace(\" \", \"\").replace(\",\", \"\").replace(\"(\", \"\").replace(\")\", \"\").replace(\";\", \"\").replace(\"'\", \"\").replace(\".\", \"\").upper()\n",
        "\n",
        "a = \"The Hound of the Baskervilles is the ultimate in detective fiction, pitting the horror of the supernatural against the cold, hard logic of the unflappable Sherlock Holmes. The family is cursed; at least that is the hypothesis when Sir Charles Baskerville is found on the dark and eerie moors near his home, the footprints of some ferocious beast beside his lifeless body. In these wild and haunting surroundings it is down to Sherlock Holmes, and his assistant Dr Watson, to solve the mystery of the killing, before the hound returns to claim the heir to Baskerville Hall.\"\n",
        "b = \"In the world of cryptocurrency, a node is a computer that connects to a cryptocurrency network. The node supports the cryptocurrency's network through either; relaying transactions, validation or hosting a copy of the blockchain. In terms of relaying transactions each network computer (node) has a copy of the blockchain of the cryptocurrency it supports. When a transaction is made the node creating the transaction broadcasts details of the transaction using encryption to other nodes throughout the node network so that the transaction (and every other transaction) is known.\"\n",
        "text = clean(a*30)[:7000]\n",
        "key = clean(\"DiegoEmilioBustamanteHenriquez\")\n",
        "ciphertext = e_otp(text, key, frequencies)\n",
        "key = break_rp(ciphertext, frequencies, abs_distance)\n",
        "print(key)\n",
        "\"\"\""
      ],
      "metadata": {
        "id": "OpTPKTvkBrSz"
      },
      "execution_count": null,
      "outputs": []
    }
  ]
}