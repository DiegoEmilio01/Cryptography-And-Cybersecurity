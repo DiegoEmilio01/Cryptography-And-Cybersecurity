{
  "nbformat": 4,
  "nbformat_minor": 0,
  "metadata": {
    "colab": {
      "name": "pregunta1.ipynb",
      "provenance": [],
      "collapsed_sections": []
    },
    "kernelspec": {
      "name": "python3",
      "display_name": "Python 3"
    },
    "language_info": {
      "name": "python"
    }
  },
  "cells": [
    {
      "cell_type": "markdown",
      "source": [
        "# Pregunta 1 - Tarea 2\n",
        "## Diego Emilio Bustamante Henríquez"
      ],
      "metadata": {
        "id": "Kc0Ut9EdyFLI"
      }
    },
    {
      "cell_type": "code",
      "source": [
        "def pad(message, l_block):\n",
        "  new_msg = message if len(message) % l_block == 0 else message + (1).to_bytes(1, \"big\") + (0).to_bytes(1, \"big\") * (l_block -(len(message) % l_block) - 1)\n",
        "  return new_msg + len(message).to_bytes(l_block, \"big\")"
      ],
      "metadata": {
        "id": "rE0HJo4ka-Re"
      },
      "execution_count": 54,
      "outputs": []
    },
    {
      "cell_type": "code",
      "source": [
        "def davies_meyer(encrypt, l_key, l_message):\n",
        "  def compression(msg):\n",
        "    return bytes(a ^ b for (a, b) in zip(encrypt(msg[:l_key], msg[l_key:l_key + l_message]), msg[l_key:l_key + l_message]))\n",
        "  return compression"
      ],
      "metadata": {
        "id": "dPONO0Efo6D0"
      },
      "execution_count": 55,
      "outputs": []
    },
    {
      "cell_type": "code",
      "source": [
        "def merkle_damgard(IV, comp, l_block):\n",
        "  def hash(msg):\n",
        "    msg = pad(msg, l_block)\n",
        "    value = IV\n",
        "    for index in range(0, len(msg), l_block): value = comp(msg[index:index+l_block] + value)\n",
        "    return value\n",
        "  return hash"
      ],
      "metadata": {
        "id": "k-jannGwdiXZ"
      },
      "execution_count": 43,
      "outputs": []
    },
    {
      "cell_type": "code",
      "execution_count": null,
      "metadata": {
        "id": "MkHTkCknwMeU"
      },
      "outputs": [],
      "source": [
        "\"\"\"\n",
        "!pip install pycryptodome\n",
        "from Crypto.Cipher import AES\n",
        "\n",
        "def AES_128(key: bytearray, message: bytearray) -> bytearray:\n",
        "    a = AES.new(key, AES.MODE_ECB)\n",
        "    return bytearray(a.encrypt(message))\n",
        "compresion = davies_meyer(AES_128, 16, 16)\n",
        "hash = merkle_damgard(bytearray(b'1234567890123456'), compresion, 16)\n",
        "s1 = bytearray(b'Este es un mensaje de prueba para la tarea 2')\n",
        "s2 = bytearray(b'Este es un mensaje de Prueba para la tarea 2')\n",
        "s3 = bytearray(b'Un mensaje corto')\n",
        "s4 = bytearray(b'')\n",
        "\n",
        "h1 = hash(s1)\n",
        "h2 = hash(s2)\n",
        "h3 = hash(s3)\n",
        "h4 = hash(s4)\n",
        "\n",
        "print(h1 == bytearray(b'\\xe9\\xe8\\xac\\x12\\\\\\xf2\\xc8\\x16\\xceOV\\xc5Y.T\\xea'))\n",
        "print(h2 == bytearray(b'\\xb6\\xfb\\xc6a\\x12\\xae\\x95\\x1f\\xda\\xc5\\x13\\xde\\x06|Q\\x96'))\n",
        "print(h3 == bytearray(b'\\xc5\\xec\\xcdd\\xa4(R*\\xf0L*QtL\\xda\\x81'))\n",
        "print(h4 == bytearray(b'p\\xca \\xd8\\x9c\\xeb\\xe6\\xb1\\xce\\xcf\\x03\\xb2\\x9e\\x93\\x19\\xbc'))\n",
        "\"\"\""
      ]
    }
  ]
}