{
  "nbformat": 4,
  "nbformat_minor": 0,
  "metadata": {
    "colab": {
      "name": "pregunta2.ipynb",
      "provenance": [],
      "collapsed_sections": []
    },
    "kernelspec": {
      "name": "python3",
      "display_name": "Python 3"
    },
    "language_info": {
      "name": "python"
    }
  },
  "cells": [
    {
      "cell_type": "markdown",
      "source": [
        "# Pregunta 2 - Tarea 2\n",
        "## Diego Emilio Bustamante Henríquez\n",
        "\n",
        "### Utilidades\n",
        "\n",
        "- `_egcd`: El algoritmo extendido de euclides. Retorna el máximo común divisor y el inverso de `a` en módulo `b`.\n",
        "- `_es_potencia`: revisa si un número es potencia de algun entero menor que él.\n",
        "- `_tiene_raiz_entera`: revisa si un número tiene raíz entera dado un exponente `k`.\n",
        "- `_tiene_raiz_entera_intervalo`: revisa si un número tiene raíz entera dado un exponente dentro de un intervalo.\n",
        "- `_fast_primality`: test de primalidad visto en clases con algunas optimizaciones.\n",
        "- `_generate_prime`: genera un primo en un intervalo dado, si no existe un primo retorna `-1`.\n",
        "- `_int_size`: cantidad mínima de bytes necesaria para almacenar un entero dado. \n",
        "\n",
        "Nota: varias de estas funciones de utilidades están basadas en mi propia tarea del ramo Diseño y Análisis de Algoritmos."
      ],
      "metadata": {
        "id": "Kc0Ut9EdyFLI"
      }
    },
    {
      "cell_type": "code",
      "source": [
        "from random import randint\n",
        "from math import gcd, log2\n",
        "\n",
        "def _egcd(a, b):\n",
        "  if a == 0: return (b, 0, 1)\n",
        "  g, y, x = _egcd(b % a, a)\n",
        "  return (g, x - (b // a) * y, y)\n",
        "\n",
        "def _es_potencia(n: int):\n",
        "  if n <= 3: return False\n",
        "  for k in range(2, int(log2(n)) + 1):\n",
        "    if _tiene_raiz_entera(n, k): return True\n",
        "  return False\n",
        "\n",
        "def _tiene_raiz_entera(n: int, k: int):\n",
        "  if n <= 3: return False\n",
        "  a = 1\n",
        "  while pow(a,k) < n: a <<= 1\n",
        "  return _tiene_raiz_entera_intervalo(n, k, a>>1, a)\n",
        "\n",
        "def _tiene_raiz_entera_intervalo(n: int, k: int, i: int, j: int):\n",
        "  while i <= j:\n",
        "    if i==j: return n == pow(i,k)\n",
        "    p = (i + j)>>1\n",
        "    val = pow(p,k)\n",
        "    if n == val: return True\n",
        "    elif val < n: i = p+1\n",
        "    else: j = p-1\n",
        "  return False\n",
        "\n",
        "def _fast_primality(n, k):\n",
        "  if n == 1: return False\n",
        "  elif n == 2: return True\n",
        "  elif n%2 == 0: return False\n",
        "  else:\n",
        "    neg = 0\n",
        "    for _ in range(1, k+1):\n",
        "      a = randint(2, n-1)\n",
        "      if gcd(a, n) > 1: return False\n",
        "      else:\n",
        "        b = pow(a, (n-1)>>1, n)\n",
        "        if b == n - 1: neg = neg + 1\n",
        "        elif b != 1: return False\n",
        "    if neg > 0: return not _es_potencia(n)\n",
        "    else: return False\n",
        "\n",
        "def _generate_prime(a, b):\n",
        "  if a%2 == 0: a += 1\n",
        "  if a == b and _fast_primality(a, 100): return a\n",
        "  elif a == b: return -1\n",
        "  if b%2 == 0: b -= 1\n",
        "  if a == b and _fast_primality(a, 100): return a\n",
        "  elif a == b: return -1\n",
        "  selected = set()\n",
        "  candidates = b - a + 1\n",
        "  for _ in range(400000):\n",
        "    elem = randint(a, b)\n",
        "    if elem not in selected and _fast_primality(elem, 40): return elem\n",
        "    selected.add(elem)\n",
        "    if candidates == len(selected): return -1\n",
        "  return -1\n",
        "\n",
        "def _int_size(i): return int(log2(i) // 8 + 1)"
      ],
      "metadata": {
        "id": "FjzMLgECPWIt"
      },
      "execution_count": 75,
      "outputs": []
    },
    {
      "cell_type": "markdown",
      "source": [
        "## Receiver\n"
      ],
      "metadata": {
        "id": "AJkV79gEurKr"
      }
    },
    {
      "cell_type": "code",
      "execution_count": 183,
      "metadata": {
        "id": "MkHTkCknwMeU"
      },
      "outputs": [],
      "source": [
        "class RSAReceiver:\n",
        "  def __init__(self, bit_len):\n",
        "    if bit_len < 8: bit_len = 8\n",
        "    P = _generate_prime(1<<(bit_len//2), 1<<(bit_len//2 + 1))\n",
        "    Q = _generate_prime((1<<(bit_len//2 + 1)) + 1, 1<<(bit_len//2 + 2))\n",
        "    self.__N = P * Q\n",
        "    phi = (P-1) * (Q-1)\n",
        "    self.__d = randint(1<<(bit_len//2 - 2), P - 1)\n",
        "    while(gcd(self.__d, phi) != 1): self.__d = randint(1<<(bit_len//2 - 2), P - 1)\n",
        "    _, e, _ = _egcd(self.__d, phi)\n",
        "    self.__e = e % phi\n",
        "    self.__N_size = _int_size(self.__N)\n",
        "\n",
        "  def get_public_key(self):\n",
        "    return _int_size(self.__e).to_bytes(4, \"big\") + \\\n",
        "           self.__e.to_bytes(_int_size(self.__e), \"big\") + \\\n",
        "           self.__N_size.to_bytes(4, \"big\") + \\\n",
        "           self.__N.to_bytes(_int_size(self.__N), \"big\")\n",
        "\n",
        "  def decrypt(self, ciphertext):\n",
        "    text = bytearray()\n",
        "    for index in range(0, len(ciphertext), self.__N_size):\n",
        "      int_text = pow(int.from_bytes(ciphertext[index:index+self.__N_size], \"big\"), self.__d, self.__N)\n",
        "      text += int_text.to_bytes(_int_size(int_text), \"big\")\n",
        "    return text.decode(\"utf-8\")"
      ]
    },
    {
      "cell_type": "markdown",
      "source": [
        "## Sender"
      ],
      "metadata": {
        "id": "6V_GLn8Zu25P"
      }
    },
    {
      "cell_type": "code",
      "source": [
        "class RSASender:\n",
        "  def __init__(self, public_key):\n",
        "    e_size = int.from_bytes(public_key[:4], \"big\")\n",
        "    self.__e = int.from_bytes(public_key[4:4+e_size], \"big\")\n",
        "    self.__N_size = int.from_bytes(public_key[4+e_size:8+e_size], \"big\")\n",
        "    self.__N = int.from_bytes(public_key[8+e_size:], \"big\")\n",
        "\n",
        "  def encrypt(self, message):\n",
        "    msg_bytes = bytearray(message, \"utf-8\")\n",
        "    ciphertext = bytearray()\n",
        "    for index in range(0, len(msg_bytes), self.__N_size - 1):\n",
        "      ciphertext += pow(int.from_bytes(msg_bytes[index:index+self.__N_size-1], \"big\"), self.__e, self.__N).to_bytes(self.__N_size, \"big\")\n",
        "    return ciphertext"
      ],
      "metadata": {
        "id": "EZfdZXgYxezY"
      },
      "execution_count": 181,
      "outputs": []
    },
    {
      "cell_type": "code",
      "source": [
        "\"\"\"\n",
        "re = RSAReceiver(1400)\n",
        "key = re.get_public_key()\n",
        "se = RSASender(key)\n",
        "msg = se.encrypt(\"hola como esta mi gente wiiiiiiiiiiiii\")\n",
        "re.decrypt(msg)\n",
        "\"\"\""
      ],
      "metadata": {
        "id": "5_YwCEzYocLw"
      },
      "execution_count": null,
      "outputs": []
    }
  ]
}